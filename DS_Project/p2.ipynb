{
 "cells": [
  {
   "cell_type": "markdown",
   "id": "d028adbc-7b5d-4cd9-b535-0c1142794eef",
   "metadata": {},
   "source": [
    "# 1. Cost of translation"
   ]
  },
  {
   "cell_type": "markdown",
   "id": "e6a2c0d4-7a98-49b1-89a0-a5bbe05f2b34",
   "metadata": {},
   "source": [
    "## a)"
   ]
  },
  {
   "cell_type": "code",
   "execution_count": 13,
   "id": "d93fb70e-9100-481e-bcb8-66ca2e56a7cd",
   "metadata": {},
   "outputs": [],
   "source": [
    "def cost_of_translation (num_of_words, type = 'standard', rush = False):\n",
    "    rate_by_type = {\n",
    "    'standard': 0.05,\n",
    "    'certified': 0.10,\n",
    "    'notarized': 0.12\n",
    "    }\n",
    "    rates = rate_by_type.get(type, 0.05)\n",
    "    if rush: \n",
    "        rates *= 1.5\n",
    "    \n",
    "    total_cost = num_of_words * rates\n",
    "        \n",
    "    return total_cost"
   ]
  },
  {
   "cell_type": "code",
   "execution_count": 14,
   "id": "44b73afd-15c2-4ce3-aea9-3cf335cdb05f",
   "metadata": {},
   "outputs": [
    {
     "name": "stdout",
     "output_type": "stream",
     "text": [
      "50.0\n"
     ]
    }
   ],
   "source": [
    "num_of_words = 1000\n",
    "type = 'standard'\n",
    "rush = False\n",
    "total_cost = cost_of_translation(num_of_words, type, rush)\n",
    "\n",
    "print(total_cost)"
   ]
  },
  {
   "cell_type": "markdown",
   "id": "73d02ab5-6806-488c-bb4b-afe0da0db786",
   "metadata": {},
   "source": [
    "## b)"
   ]
  },
  {
   "cell_type": "code",
   "execution_count": 15,
   "id": "1dce16b5-f2ea-4148-b330-1cf600966efd",
   "metadata": {},
   "outputs": [],
   "source": [
    "def sales_tax (cost_of_translation, tax_rate = 0.10): \n",
    "    \n",
    "    return cost_of_translation * tax_rate"
   ]
  },
  {
   "cell_type": "code",
   "execution_count": 16,
   "id": "cdd7902b-3455-4056-84a4-e681bc4ee585",
   "metadata": {},
   "outputs": [
    {
     "name": "stdout",
     "output_type": "stream",
     "text": [
      "5.0\n"
     ]
    }
   ],
   "source": [
    "num_of_words = 1000\n",
    "type = 'standard'\n",
    "rush = False\n",
    "\n",
    "total_cost = cost_of_translation(num_of_words, type, rush)\n",
    "tax_rate = 0.10\n",
    "\n",
    "total_sales_tax = sales_tax(total_cost, tax_rate)\n",
    "\n",
    "print(total_sales_tax)"
   ]
  },
  {
   "cell_type": "markdown",
   "id": "fa6f0e2d-9ff6-41bb-b78f-c4e47c0aa34d",
   "metadata": {},
   "source": [
    "## c)"
   ]
  },
  {
   "cell_type": "code",
   "execution_count": 17,
   "id": "4c2b2205-786b-4e2a-abcb-863bd4d86f4e",
   "metadata": {},
   "outputs": [],
   "source": [
    "def sales_tax_notary (cost_of_translation, tax_rate = 0.10, type = 'standard'):\n",
    "    if type == 'notarized':\n",
    "        return 0"
   ]
  },
  {
   "cell_type": "code",
   "execution_count": 18,
   "id": "996f0b20-f0d0-4715-8371-a1cc38d93f5e",
   "metadata": {},
   "outputs": [
    {
     "name": "stdout",
     "output_type": "stream",
     "text": [
      "120.0\n",
      "0\n"
     ]
    }
   ],
   "source": [
    "num_of_words = 1000\n",
    "type = 'notarized'\n",
    "rush = False\n",
    "total_cost = cost_of_translation(num_of_words, type, rush)\n",
    "\n",
    "total_sales_tax_notary = sales_tax_notary(total_cost, tax_rate, type)\n",
    "\n",
    "print(total_cost)\n",
    "print(total_sales_tax_notary)"
   ]
  },
  {
   "cell_type": "markdown",
   "id": "af8befe8-c4a5-44db-8c6e-ce7ef0ef1b18",
   "metadata": {},
   "source": [
    "## d)"
   ]
  },
  {
   "cell_type": "code",
   "execution_count": 21,
   "id": "5aa3feab-a107-459c-ba56-7f24a64493b4",
   "metadata": {},
   "outputs": [],
   "source": [
    "def translation_calculator(num_of_words, type = 'standard', rush = False):\n",
    "    rate_by_type = {\n",
    "    'standard': 0.05,\n",
    "    'certified': 0.10,\n",
    "    'notarized': 0.12\n",
    "    }\n",
    "    rates = rate_by_type.get(type, 0.05)\n",
    "    if rush: \n",
    "        rates *= 1.5\n",
    "    cost_of_translation = num_of_words * rates\n",
    "    sales_tax_notary = 0 if type == 'notarized' else cost_of_translation * 0.10\n",
    "    total_cost = cost_of_translation + sales_tax_notary\n",
    "\n",
    "    print(num_of_words)\n",
    "    print(type)\n",
    "    print(rush)\n",
    "    print(rates)\n",
    "    print(cost_of_translation)\n",
    "    print(sales_tax_notary)\n",
    "    print(total_cost)\n",
    "        "
   ]
  },
  {
   "cell_type": "code",
   "execution_count": 22,
   "id": "7f414c8d-858b-4709-bcb2-48bc650228bd",
   "metadata": {},
   "outputs": [
    {
     "name": "stdout",
     "output_type": "stream",
     "text": [
      "1000\n",
      "notarized\n",
      "True\n",
      "0.18\n",
      "180.0\n",
      "0\n",
      "180.0\n"
     ]
    }
   ],
   "source": [
    "num_of_words = 1000\n",
    "type = 'notarized'\n",
    "rush = True\n",
    "\n",
    "translation_calculator(num_of_words, type, rush)"
   ]
  },
  {
   "cell_type": "markdown",
   "id": "a248407d-b1e1-4495-b700-432008126de4",
   "metadata": {},
   "source": [
    "# 2. Error handling"
   ]
  },
  {
   "cell_type": "markdown",
   "id": "7887e125-7021-4fae-8bc3-2743548f50d7",
   "metadata": {},
   "source": [
    "## a)"
   ]
  },
  {
   "cell_type": "code",
   "execution_count": 23,
   "id": "053ccb86-d7e4-4aa2-99cb-e7cec81e33f0",
   "metadata": {},
   "outputs": [],
   "source": [
    "def translation_calculator(num_of_words, type = 'standard', rush = False):\n",
    "    assert num_of_words > 0, \"Number of words must be positive.\"\n",
    "    valid_types = ['standard', 'certified', 'notarized']\n",
    "    assert type in valid_types, \"Invalid translation type. Allowed types are: {'standard', 'certified', 'notarized'}.\" \n",
    "    \n",
    "    rate_by_type = {\n",
    "    'standard': 0.05,\n",
    "    'certified': 0.10,\n",
    "    'notarized': 0.12\n",
    "    }\n",
    "    rates = rate_by_type.get(type, 0.05)\n",
    "    if rush: \n",
    "        rates *= 1.5\n",
    "    \n",
    "    cost_of_translation = num_of_words * rates\n",
    "    sales_tax_notary = 0 if type == 'notarized' else cost_of_translation * 0.10\n",
    "    total_cost = cost_of_translation + sales_tax_notary\n",
    "    \n",
    "    return total_cost\n"
   ]
  },
  {
   "cell_type": "code",
   "execution_count": 24,
   "id": "7cad9cbd-9747-4b7b-aaa3-4e59e993e242",
   "metadata": {},
   "outputs": [
    {
     "name": "stdout",
     "output_type": "stream",
     "text": [
      "Error: Number of words must be positive.\n",
      "Error: Invalid translation type. Allowed types are: {'standard', 'certified', 'notarized'}.\n"
     ]
    }
   ],
   "source": [
    "try:\n",
    "    translation_cost_0_words = translation_calculator(0, type = 'standard')\n",
    "    print(translation_cost_0_words)\n",
    "except AssertionError as e:\n",
    "    print(\"Error:\", str(e))\n",
    "\n",
    "try:\n",
    "    translation_cost_live = translation_calculator(100, type = 'live')\n",
    "    print(translation_cost_live)\n",
    "except AssertionError as e:\n",
    "    print(\"Error:\", str(e))"
   ]
  },
  {
   "cell_type": "markdown",
   "id": "c8451e4d-f5e6-4a45-a2e0-72d12abc3282",
   "metadata": {},
   "source": [
    "## b)"
   ]
  },
  {
   "cell_type": "code",
   "execution_count": 25,
   "id": "e6ea34b2-16cd-4496-9219-c2bd868cc1f1",
   "metadata": {},
   "outputs": [],
   "source": [
    "def translation_calculator(num_of_words, type = 'standard', rush = False):\n",
    "    try:\n",
    "        if num_of_words <= 0:\n",
    "            raise ValueError(\"Please check your input values\")\n",
    "\n",
    "        valid_types = {'standard', 'certified', 'notarized'}\n",
    "        if type not in valid_types:\n",
    "            raise ValueError(\"Please check your input values\")\n",
    "        \n",
    "    \n",
    "        rate_by_type = {\n",
    "        'standard': 0.05,\n",
    "        'certified': 0.10,\n",
    "        'notarized': 0.12\n",
    "        }\n",
    "        rates = rate_by_type.get(type, 0.05)\n",
    "        if rush: \n",
    "            rates *= 1.5\n",
    "    \n",
    "        cost_of_translation = num_of_words * rates\n",
    "        sales_tax_notary = 0 if type == 'notarized' else cost_of_translation * 0.10\n",
    "        total_cost = cost_of_translation + sales_tax_notary\n",
    "    \n",
    "        return total_cost\n",
    "   \n",
    "    except ValueError as e:\n",
    "        print(\"Error:\", str(e))"
   ]
  },
  {
   "cell_type": "code",
   "execution_count": 26,
   "id": "dd4bc4f1-7c6c-458b-be33-d67d19a096a8",
   "metadata": {},
   "outputs": [
    {
     "name": "stdout",
     "output_type": "stream",
     "text": [
      "Error: Please check your input values\n",
      "None\n"
     ]
    }
   ],
   "source": [
    "translation_cost_negative_words = translation_calculator(-100, type = 'standard')\n",
    "print(translation_cost_negative_words)"
   ]
  },
  {
   "cell_type": "code",
   "execution_count": null,
   "id": "a9345622-a2cc-4ca5-b329-fe68ca2e0a38",
   "metadata": {},
   "outputs": [],
   "source": []
  }
 ],
 "metadata": {
  "kernelspec": {
   "display_name": "Python 3 (ipykernel)",
   "language": "python",
   "name": "python3"
  },
  "language_info": {
   "codemirror_mode": {
    "name": "ipython",
    "version": 3
   },
   "file_extension": ".py",
   "mimetype": "text/x-python",
   "name": "python",
   "nbconvert_exporter": "python",
   "pygments_lexer": "ipython3",
   "version": "3.11.0"
  }
 },
 "nbformat": 4,
 "nbformat_minor": 5
}
