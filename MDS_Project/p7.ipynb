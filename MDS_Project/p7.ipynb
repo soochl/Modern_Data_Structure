{
 "cells": [
  {
   "cell_type": "markdown",
   "id": "c6923211-a77c-465a-92d3-f38210b1f976",
   "metadata": {},
   "source": [
    "# 1."
   ]
  },
  {
   "cell_type": "markdown",
   "id": "851d4d69-9fc7-49af-adbb-4f1b2d77e310",
   "metadata": {},
   "source": [
    "### I chose REST Countries API."
   ]
  },
  {
   "cell_type": "markdown",
   "id": "e0fe13c4-026c-48b6-b795-94d4be4856aa",
   "metadata": {},
   "source": [
    "# 2."
   ]
  },
  {
   "cell_type": "code",
   "execution_count": 1,
   "id": "ab49979f-562f-4129-a622-64f1ffd78bec",
   "metadata": {},
   "outputs": [
    {
     "name": "stdout",
     "output_type": "stream",
     "text": [
      "Requirement already satisfied: requests in /Users/sooyeonchoi/Library/Caches/pypoetry/virtualenvs/mds-project-pILdzu2S-py3.11/lib/python3.11/site-packages (2.31.0)\n",
      "Requirement already satisfied: charset-normalizer<4,>=2 in /Users/sooyeonchoi/Library/Caches/pypoetry/virtualenvs/mds-project-pILdzu2S-py3.11/lib/python3.11/site-packages (from requests) (3.3.1)\n",
      "Requirement already satisfied: idna<4,>=2.5 in /Users/sooyeonchoi/Library/Caches/pypoetry/virtualenvs/mds-project-pILdzu2S-py3.11/lib/python3.11/site-packages (from requests) (3.4)\n",
      "Requirement already satisfied: urllib3<3,>=1.21.1 in /Users/sooyeonchoi/Library/Caches/pypoetry/virtualenvs/mds-project-pILdzu2S-py3.11/lib/python3.11/site-packages (from requests) (2.0.7)\n",
      "Requirement already satisfied: certifi>=2017.4.17 in /Users/sooyeonchoi/Library/Caches/pypoetry/virtualenvs/mds-project-pILdzu2S-py3.11/lib/python3.11/site-packages (from requests) (2023.7.22)\n",
      "\n",
      "\u001b[1m[\u001b[0m\u001b[34;49mnotice\u001b[0m\u001b[1;39;49m]\u001b[0m\u001b[39;49m A new release of pip is available: \u001b[0m\u001b[31;49m23.2.1\u001b[0m\u001b[39;49m -> \u001b[0m\u001b[32;49m23.3.1\u001b[0m\n",
      "\u001b[1m[\u001b[0m\u001b[34;49mnotice\u001b[0m\u001b[1;39;49m]\u001b[0m\u001b[39;49m To update, run: \u001b[0m\u001b[32;49mpip install --upgrade pip\u001b[0m\n",
      "Note: you may need to restart the kernel to use updated packages.\n"
     ]
    }
   ],
   "source": [
    "pip install requests"
   ]
  },
  {
   "cell_type": "code",
   "execution_count": 2,
   "id": "9872033b-fd6b-477e-b930-14ec116ce1bd",
   "metadata": {},
   "outputs": [],
   "source": [
    "!cat .env"
   ]
  },
  {
   "cell_type": "code",
   "execution_count": 4,
   "id": "daef182b-0da4-4695-984d-70dc636d7550",
   "metadata": {},
   "outputs": [
    {
     "name": "stdout",
     "output_type": "stream",
     "text": [
      "Requirement already satisfied: python-dotenv in /Users/sooyeonchoi/Library/Caches/pypoetry/virtualenvs/mds-project-pILdzu2S-py3.11/lib/python3.11/site-packages (1.0.0)\n",
      "\n",
      "\u001b[1m[\u001b[0m\u001b[34;49mnotice\u001b[0m\u001b[1;39;49m]\u001b[0m\u001b[39;49m A new release of pip is available: \u001b[0m\u001b[31;49m23.2.1\u001b[0m\u001b[39;49m -> \u001b[0m\u001b[32;49m23.3.1\u001b[0m\n",
      "\u001b[1m[\u001b[0m\u001b[34;49mnotice\u001b[0m\u001b[1;39;49m]\u001b[0m\u001b[39;49m To update, run: \u001b[0m\u001b[32;49mpip install --upgrade pip\u001b[0m\n"
     ]
    }
   ],
   "source": [
    "!pip install python-dotenv"
   ]
  },
  {
   "cell_type": "code",
   "execution_count": 5,
   "id": "7033151d-29de-485a-b101-e1653fc97417",
   "metadata": {},
   "outputs": [],
   "source": [
    "#To access REST Countries API, the users need to request API token from https://restfulcountries.com/request-access-token.\n",
    "\n",
    "import os\n",
    "from dotenv import load_dotenv\n",
    "load_dotenv()\n",
    "\n",
    "token = os.getenv('RESTCOUNTRIES_API_TOKEN')"
   ]
  },
  {
   "cell_type": "code",
   "execution_count": 6,
   "id": "1b9dfd23-a9e8-4e1b-b77a-d77fa850605c",
   "metadata": {},
   "outputs": [],
   "source": [
    "import requests"
   ]
  },
  {
   "cell_type": "code",
   "execution_count": 7,
   "id": "b8b6c01c-41f1-4a62-b5ef-b77e3ce631a0",
   "metadata": {},
   "outputs": [],
   "source": [
    "r = requests.get('https://restcountries.com/v3.1/all', auth=(token))"
   ]
  },
  {
   "cell_type": "code",
   "execution_count": 8,
   "id": "b5026bc7-cbe6-456a-be09-44cfd46cdb32",
   "metadata": {},
   "outputs": [
    {
     "data": {
      "text/plain": [
       "200"
      ]
     },
     "execution_count": 8,
     "metadata": {},
     "output_type": "execute_result"
    }
   ],
   "source": [
    "r.status_code"
   ]
  },
  {
   "cell_type": "code",
   "execution_count": 9,
   "id": "11197fb0-1fe1-4b13-a356-2662d23073c9",
   "metadata": {},
   "outputs": [
    {
     "data": {
      "text/plain": [
       "'application/json'"
      ]
     },
     "execution_count": 9,
     "metadata": {},
     "output_type": "execute_result"
    }
   ],
   "source": [
    "r.headers['content-type']"
   ]
  },
  {
   "cell_type": "code",
   "execution_count": 10,
   "id": "d646bbea-bb5f-4c72-bc21-92ec03857101",
   "metadata": {},
   "outputs": [
    {
     "data": {
      "text/plain": [
       "'utf-8'"
      ]
     },
     "execution_count": 10,
     "metadata": {},
     "output_type": "execute_result"
    }
   ],
   "source": [
    "r.encoding"
   ]
  },
  {
   "cell_type": "markdown",
   "id": "d149a90a-4c08-489c-b9b4-698660e78917",
   "metadata": {},
   "source": [
    "# 3."
   ]
  },
  {
   "cell_type": "markdown",
   "id": "650885f8-f257-4bcd-8021-b3ceb32f02f9",
   "metadata": {},
   "source": [
    "## a)"
   ]
  },
  {
   "cell_type": "code",
   "execution_count": 11,
   "id": "51e00e6a-4526-4043-a9ab-c4ed2d391226",
   "metadata": {},
   "outputs": [],
   "source": [
    "rest_api_key = os.getenv('RESTCOUNTRIES_API_TOKEN')"
   ]
  },
  {
   "cell_type": "code",
   "execution_count": 12,
   "id": "6dd09545-4499-463c-a965-97f34de91f37",
   "metadata": {},
   "outputs": [],
   "source": [
    "country_codes = ['USA', 'CAN', 'KOR']"
   ]
  },
  {
   "cell_type": "code",
   "execution_count": 13,
   "id": "1f3e1d32-af68-4ceb-bd12-cc177253ceda",
   "metadata": {},
   "outputs": [],
   "source": [
    "params = {'codes':','.join(country_codes)}\n",
    "r = requests.get('https://restcountries.com/v3.1/alpha', params=params)"
   ]
  },
  {
   "cell_type": "markdown",
   "id": "c2817803-f1ea-4ccc-b16c-7a98b7c8400c",
   "metadata": {},
   "source": [
    "## b)"
   ]
  },
  {
   "cell_type": "code",
   "execution_count": 14,
   "id": "96706424-8fc5-4094-839d-7fc9e2bca46e",
   "metadata": {},
   "outputs": [
    {
     "data": {
      "text/plain": [
       "200"
      ]
     },
     "execution_count": 14,
     "metadata": {},
     "output_type": "execute_result"
    }
   ],
   "source": [
    "r.status_code"
   ]
  },
  {
   "cell_type": "code",
   "execution_count": 15,
   "id": "499753d3-3a94-464a-82e5-c6e341690d9c",
   "metadata": {},
   "outputs": [
    {
     "data": {
      "text/plain": [
       "'[{\"name\":{\"common\":\"United States\",\"official\":\"United States of America\",\"nativeName\":{\"eng\":{\"offic'"
      ]
     },
     "execution_count": 15,
     "metadata": {},
     "output_type": "execute_result"
    }
   ],
   "source": [
    "r.text[:100]"
   ]
  },
  {
   "cell_type": "markdown",
   "id": "4fd9af72-2f13-461a-ab78-d18ef1462d0e",
   "metadata": {},
   "source": [
    "## c)"
   ]
  },
  {
   "cell_type": "code",
   "execution_count": 16,
   "id": "212c1465-b081-4eb1-8d81-c83a6314d4c9",
   "metadata": {},
   "outputs": [
    {
     "data": {
      "text/plain": [
       "'application/json'"
      ]
     },
     "execution_count": 16,
     "metadata": {},
     "output_type": "execute_result"
    }
   ],
   "source": [
    "r.headers['Content-Type']"
   ]
  },
  {
   "cell_type": "code",
   "execution_count": 17,
   "id": "1c4518e7-b8cc-4f36-a9ef-e8db1f8d0b36",
   "metadata": {},
   "outputs": [
    {
     "data": {
      "text/plain": [
       "'utf-8'"
      ]
     },
     "execution_count": 17,
     "metadata": {},
     "output_type": "execute_result"
    }
   ],
   "source": [
    "r.encoding"
   ]
  },
  {
   "cell_type": "markdown",
   "id": "a93e68e4-248a-4c7f-8789-e20fc7f5f4a7",
   "metadata": {},
   "source": [
    "# 4."
   ]
  },
  {
   "cell_type": "markdown",
   "id": "5c109a49-6623-4a66-b667-228f44811e75",
   "metadata": {},
   "source": [
    "## a)"
   ]
  },
  {
   "cell_type": "code",
   "execution_count": 18,
   "id": "528e72d7-7b77-4f89-84a8-4a981970ff06",
   "metadata": {},
   "outputs": [],
   "source": [
    "import requests\n",
    "import pandas as pd"
   ]
  },
  {
   "cell_type": "code",
   "execution_count": 19,
   "id": "ca8894c9-0c12-43f9-8349-8f4b8483bc09",
   "metadata": {},
   "outputs": [],
   "source": [
    "rest_json = r.json()\n",
    "df = pd.DataFrame(rest_json)\n",
    "\n",
    "# covert api json to pandas data frame"
   ]
  },
  {
   "cell_type": "markdown",
   "id": "676ca1af-06b9-4303-9341-a13c5fd8e101",
   "metadata": {},
   "source": [
    "## b)"
   ]
  },
  {
   "cell_type": "code",
   "execution_count": 20,
   "id": "4cfe4d24-a1fe-47e2-8038-19bc8fc545ea",
   "metadata": {},
   "outputs": [],
   "source": [
    "country_codes = ['USA', 'CAN', 'KOR', 'CHN', 'JPN', 'AUS', 'IND', 'FRA', 'ITA']\n",
    "rest_list = []"
   ]
  },
  {
   "cell_type": "code",
   "execution_count": 21,
   "id": "44cd5c99-3881-46ce-955d-f6d2808a0dbc",
   "metadata": {},
   "outputs": [],
   "source": [
    "params = {'codes':','.join(country_codes),\n",
    "          'fields': 'name, capital city, language, currency, region'}\n",
    "r = requests.get('https://restcountries.com/v3.1/alpha', params=params)"
   ]
  },
  {
   "cell_type": "code",
   "execution_count": 22,
   "id": "36b36341-48c1-473a-a09c-f4e2d54eccbb",
   "metadata": {},
   "outputs": [],
   "source": [
    "if r.status_code == 200:\n",
    "    rest_json = r.json()\n",
    "    rest_list.extend(rest_json)"
   ]
  },
  {
   "cell_type": "code",
   "execution_count": 23,
   "id": "e9f920f4-b262-4ed6-bba3-0ab2d18e3bbf",
   "metadata": {},
   "outputs": [
    {
     "name": "stdout",
     "output_type": "stream",
     "text": [
      "                                                name         tld cca2 ccn3  \\\n",
      "0  {'common': 'United States', 'official': 'Unite...       [.us]   US  840   \n",
      "1  {'common': 'South Korea', 'official': 'Republi...  [.kr, .한국]   KR  410   \n",
      "2  {'common': 'Canada', 'official': 'Canada', 'na...       [.ca]   CA  124   \n",
      "\n",
      "  cca3 cioc  independent               status  unMember  \\\n",
      "0  USA  USA         True  officially-assigned      True   \n",
      "1  KOR  KOR         True  officially-assigned      True   \n",
      "2  CAN  CAN         True  officially-assigned      True   \n",
      "\n",
      "                                          currencies  ...            gini  \\\n",
      "0  {'USD': {'name': 'United States dollar', 'symb...  ...  {'2018': 41.4}   \n",
      "1  {'KRW': {'name': 'South Korean won', 'symbol':...  ...  {'2016': 31.4}   \n",
      "2  {'CAD': {'name': 'Canadian dollar', 'symbol': ...  ...  {'2017': 33.3}   \n",
      "\n",
      "  fifa                                  car  \\\n",
      "0  USA  {'signs': ['USA'], 'side': 'right'}   \n",
      "1  KOR  {'signs': ['ROK'], 'side': 'right'}   \n",
      "2  CAN  {'signs': ['CDN'], 'side': 'right'}   \n",
      "\n",
      "                                           timezones       continents  \\\n",
      "0  [UTC-12:00, UTC-11:00, UTC-10:00, UTC-09:00, U...  [North America]   \n",
      "1                                        [UTC+09:00]           [Asia]   \n",
      "2  [UTC-08:00, UTC-07:00, UTC-06:00, UTC-05:00, U...  [North America]   \n",
      "\n",
      "                                               flags  \\\n",
      "0  {'png': 'https://flagcdn.com/w320/us.png', 'sv...   \n",
      "1  {'png': 'https://flagcdn.com/w320/kr.png', 'sv...   \n",
      "2  {'png': 'https://flagcdn.com/w320/ca.png', 'sv...   \n",
      "\n",
      "                                          coatOfArms startOfWeek  \\\n",
      "0  {'png': 'https://mainfacts.com/media/images/co...      sunday   \n",
      "1  {'png': 'https://mainfacts.com/media/images/co...      monday   \n",
      "2  {'png': 'https://mainfacts.com/media/images/co...      sunday   \n",
      "\n",
      "                   capitalInfo  \\\n",
      "0  {'latlng': [38.89, -77.05]}   \n",
      "1  {'latlng': [37.55, 126.98]}   \n",
      "2   {'latlng': [45.42, -75.7]}   \n",
      "\n",
      "                                          postalCode  \n",
      "0  {'format': '#####-####', 'regex': '^\\d{5}(-\\d{...  \n",
      "1  {'format': 'SEOUL ###-###', 'regex': '^(?:SEOU...  \n",
      "2  {'format': '@#@ #@#', 'regex': '^([ABCEGHJKLMN...  \n",
      "\n",
      "[3 rows x 35 columns]\n"
     ]
    }
   ],
   "source": [
    "print(df)"
   ]
  },
  {
   "cell_type": "markdown",
   "id": "9165ead8-9b73-44a3-8199-d429e7141b58",
   "metadata": {},
   "source": [
    "## c)"
   ]
  },
  {
   "cell_type": "code",
   "execution_count": 24,
   "id": "be7c60e0-ccdc-425d-a11d-ccf0ff8a923c",
   "metadata": {},
   "outputs": [],
   "source": [
    "summary_stats = df.describe()"
   ]
  },
  {
   "cell_type": "code",
   "execution_count": 25,
   "id": "cb5a8cd4-bac9-4af9-a543-a55b8f36939e",
   "metadata": {},
   "outputs": [
    {
     "name": "stdout",
     "output_type": "stream",
     "text": [
      "               area    population\n",
      "count  3.000000e+00  3.000000e+00\n",
      "mean   6.485830e+06  1.397566e+08\n",
      "std    5.538570e+06  1.644531e+08\n",
      "min    1.002100e+05  3.800524e+07\n",
      "25%    4.736410e+06  4.489291e+07\n",
      "50%    9.372610e+06  5.178058e+07\n",
      "75%    9.678640e+06  1.906324e+08\n",
      "max    9.984670e+06  3.294841e+08\n"
     ]
    }
   ],
   "source": [
    "print(summary_stats)"
   ]
  },
  {
   "cell_type": "code",
   "execution_count": 26,
   "id": "06641813-f60f-4902-998a-85dad536c442",
   "metadata": {},
   "outputs": [],
   "source": [
    "df.to_csv('rest_countries.csv', index=False)"
   ]
  },
  {
   "cell_type": "markdown",
   "id": "3843a228-2ce4-45d6-975d-1ef49b30cebb",
   "metadata": {},
   "source": [
    "# 5."
   ]
  },
  {
   "cell_type": "code",
   "execution_count": 27,
   "id": "3304e15d-76a0-44a7-9511-5413dc4aebbe",
   "metadata": {},
   "outputs": [],
   "source": [
    "import requests\n",
    "import pandas as pd"
   ]
  },
  {
   "cell_type": "code",
   "execution_count": 28,
   "id": "e3b5ff9a-72ac-4971-99be-8e26602b4edd",
   "metadata": {},
   "outputs": [],
   "source": [
    "def rest_countries_data(country_codes, rest_data_csv):\n",
    "    \"\"\"\n",
    "    fetch country data from the RESTcountries API, apply query parameters, calculate summary statistics, and save to a .csv file.\n",
    "\n",
    "    Parameters:\n",
    "    - country_codes (list): A list of country codes to fetch data for.\n",
    "    - rest_data_csv (str): The filename for the rest .csv file to save the data.\n",
    "\n",
    "    Outputs:\n",
    "    - Converting API Json to a Pandas DataFrame which contains summary statistics.\n",
    "    - Creating a .csv file with the fetched country data.\n",
    "    \"\"\"\n",
    "    rest_list = []\n",
    "    params = {'codes':','.join(country_codes),\n",
    "          'fields': 'name, capital city, language, currency, region'}\n",
    "    r = requests.get('https://restcountries.com/v3.1/alpha', params=params)\n",
    "\n",
    "    if r.status_code == 200:\n",
    "            rest_json = r.json()\n",
    "            rest_list.extend(rest_json)\n",
    "   \n",
    "    df = pd.DataFrame(rest_json)\n",
    "    summary_stats = df.describe()\n",
    "    df.to_csv('rest_countries.csv', index=False)\n",
    "\n",
    "    return summary_stats, df"
   ]
  },
  {
   "cell_type": "code",
   "execution_count": 29,
   "id": "f1e1b0b5-69b3-4522-99c3-e073fc7ccb82",
   "metadata": {},
   "outputs": [
    {
     "name": "stdout",
     "output_type": "stream",
     "text": [
      "                                                     name\n",
      "count                                                   9\n",
      "unique                                                  9\n",
      "top     {'common': 'Italy', 'official': 'Italian Repub...\n",
      "freq                                                    1\n",
      "                                                name\n",
      "0  {'common': 'Italy', 'official': 'Italian Repub...\n",
      "1  {'common': 'Australia', 'official': 'Commonwea...\n",
      "2  {'common': 'Japan', 'official': 'Japan', 'nati...\n",
      "3  {'common': 'United States', 'official': 'Unite...\n",
      "4  {'common': 'India', 'official': 'Republic of I...\n",
      "5  {'common': 'South Korea', 'official': 'Republi...\n",
      "6  {'common': 'Canada', 'official': 'Canada', 'na...\n",
      "7  {'common': 'China', 'official': 'People's Repu...\n",
      "8  {'common': 'France', 'official': 'French Repub...\n"
     ]
    }
   ],
   "source": [
    "\"\"\"\n",
    "Usage Example:\n",
    "\"\"\"\n",
    "\n",
    "country_codes = ['USA', 'CAN', 'KOR', 'CHN', 'JPN', 'AUS', 'IND', 'FRA', 'ITA']\n",
    "rest_data_csv = 'rest_countries.csv'\n",
    "summary_stats, df = rest_countries_data(country_codes, rest_data_csv)\n",
    "print(summary_stats)\n",
    "print(df)"
   ]
  },
  {
   "cell_type": "code",
   "execution_count": null,
   "id": "03bc17d3-1282-4335-acdf-b17df1b19f34",
   "metadata": {},
   "outputs": [],
   "source": []
  }
 ],
 "metadata": {
  "kernelspec": {
   "display_name": "Python 3 (ipykernel)",
   "language": "python",
   "name": "python3"
  },
  "language_info": {
   "codemirror_mode": {
    "name": "ipython",
    "version": 3
   },
   "file_extension": ".py",
   "mimetype": "text/x-python",
   "name": "python",
   "nbconvert_exporter": "python",
   "pygments_lexer": "ipython3",
   "version": "3.11.0"
  }
 },
 "nbformat": 4,
 "nbformat_minor": 5
}
