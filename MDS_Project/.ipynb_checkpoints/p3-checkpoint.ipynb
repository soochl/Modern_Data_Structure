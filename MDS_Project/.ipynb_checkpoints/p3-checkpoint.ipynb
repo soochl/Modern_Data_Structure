{
 "cells": [
  {
   "cell_type": "markdown",
   "id": "ae6f1ebb-8fde-4a54-9737-7af1eb35f1fb",
   "metadata": {},
   "source": [
    "# 1. Campground class"
   ]
  },
  {
   "cell_type": "markdown",
   "id": "cfb5b5af-9a89-4c77-a1f6-f999b0584cbc",
   "metadata": {},
   "source": [
    "## a)"
   ]
  },
  {
   "cell_type": "code",
   "execution_count": 1,
   "id": "507654d6-f7f0-4334-bf99-74e07d4163bc",
   "metadata": {},
   "outputs": [
    {
     "name": "stdout",
     "output_type": "stream",
     "text": [
      "Campground: Beaver Pond, Park: Harriman State Park, Capacitiy: 101 spots\n"
     ]
    }
   ],
   "source": [
    "class Campground():\n",
    "    def __init__(self, name: str, park: str, capacity: int):\n",
    "        self.name = name\n",
    "        self.park = park\n",
    "        self.capacity = capacity\n",
    "\n",
    "    def __str__(self):\n",
    "        return f\"Campground: {self.name}, Park: {self.park}, Capacitiy: {self.capacity} spots\"\n",
    "\n",
    "campground = Campground(name = \"Beaver Pond\", park = \"Harriman State Park\", capacity = 101)\n",
    "print(campground)\n",
    "        "
   ]
  },
  {
   "cell_type": "markdown",
   "id": "021a4282-5ebf-4293-9836-2d9bc2dca14b",
   "metadata": {},
   "source": [
    "## b)"
   ]
  },
  {
   "cell_type": "code",
   "execution_count": 32,
   "id": "029a7685-bdc0-4fdf-942f-fb27d2a42e9e",
   "metadata": {},
   "outputs": [
    {
     "name": "stdout",
     "output_type": "stream",
     "text": [
      "Beaver Pond campground in Harriman State Park has a capacitiy of 101.\n"
     ]
    }
   ],
   "source": [
    "class Campground():\n",
    "    def __init__(self, name: str, park: str, capacity: int):\n",
    "        self.name = name\n",
    "        self.park = park\n",
    "        self.capacity = capacity\n",
    "        \n",
    "    def campground_info(self):\n",
    "        return f\"{self.name} campground in {self.park} has a capacitiy of {self.capacity}.\"\n",
    "\n",
    "    def __str__ (self):\n",
    "        return self.campground_info()\n",
    "\n",
    "campground = Campground(name = \"Beaver Pond\", park = \"Harriman State Park\", capacity = 101)\n",
    "print(str(campground))\n",
    "    "
   ]
  },
  {
   "cell_type": "markdown",
   "id": "f340206e-5991-4b8b-ae86-e547e217dafe",
   "metadata": {},
   "source": [
    "## c)"
   ]
  },
  {
   "cell_type": "code",
   "execution_count": 33,
   "id": "5004f6e6-6675-40c8-ade8-50efaf8dcb62",
   "metadata": {},
   "outputs": [
    {
     "name": "stdout",
     "output_type": "stream",
     "text": [
      "Bear Creek campground in Yellowstone has a capacitiy of 50.\n",
      "Eagle Nest campground in Yosemite has a capacitiy of 30.\n",
      "Deer Run campground in Grand Canyon has a capacitiy of 40.\n",
      "Wolf Den campground in Yellowstone has a capacitiy of 20.\n",
      "Rabbit Hole campground in Yosemite has a capacitiy of 15.\n",
      "Buffalo Range campground in Grand Canyon has a capacitiy of 60.\n",
      "Falcon Crest campground in Yellowstone has a capacitiy of 25.\n",
      "Turtle Beach campground in Yosemite has a capacitiy of 35.\n"
     ]
    }
   ],
   "source": [
    "campgrounds_data = [\n",
    "    {\"name\": \"Bear Creek\", \"park\": \"Yellowstone\", \"capacity\": 50},\n",
    "    {\"name\": \"Eagle Nest\", \"park\": \"Yosemite\", \"capacity\": 30},\n",
    "    {\"name\": \"Deer Run\", \"park\": \"Grand Canyon\", \"capacity\": 40},\n",
    "    {\"name\": \"Wolf Den\", \"park\": \"Yellowstone\", \"capacity\": 20},\n",
    "    {\"name\": \"Rabbit Hole\", \"park\": \"Yosemite\", \"capacity\": 15},\n",
    "    {\"name\": \"Buffalo Range\", \"park\": \"Grand Canyon\", \"capacity\": 60},\n",
    "    {\"name\": \"Falcon Crest\", \"park\": \"Yellowstone\", \"capacity\": 25},\n",
    "    {\"name\": \"Turtle Beach\", \"park\": \"Yosemite\", \"capacity\": 35}\n",
    "]\n",
    "\n",
    "for object in campgrounds_data:\n",
    "    campground = Campground(name = object [\"name\"], park = object[\"park\"], capacity = object [\"capacity\"])\n",
    "    print(str(campground))\n"
   ]
  },
  {
   "cell_type": "markdown",
   "id": "c3024931-45ae-440a-98a6-175134cd1421",
   "metadata": {},
   "source": [
    "## d)"
   ]
  },
  {
   "cell_type": "code",
   "execution_count": 2,
   "id": "136f2d48-503f-4ca8-8080-3936d7470289",
   "metadata": {},
   "outputs": [],
   "source": [
    "class Campground():\n",
    "    def __init__(self, name: str, park: str, capacity: int):\n",
    "        self.name = name\n",
    "        self.park = park\n",
    "        self.capacity = capacity\n",
    "\n",
    "    def campground_info(self):\n",
    "        return f\"{self.name} campground in {self.park} has a capacitiy of {self.capacity}.\"\n",
    "\n",
    "    def __str__ (self):\n",
    "        return self.campground_info()\n",
    "        \n",
    "    def add_capacity(self, spots):\n",
    "        if spots < 0:\n",
    "            print (\"Error: Capacity cannot go below zero\")\n",
    "            return\n",
    "        self.capacity += spots\n",
    "    \n",
    "    def remove_capacity(self, spots):\n",
    "        if self.capacity - spots  < 0:\n",
    "            print(\"Error: Capacity cannot go below zero.\")\n",
    "            return\n",
    "        self.capacity -= spots"
   ]
  },
  {
   "cell_type": "code",
   "execution_count": 5,
   "id": "72bf55f8-ce5a-4070-bb29-7b926f1379b0",
   "metadata": {},
   "outputs": [
    {
     "name": "stdout",
     "output_type": "stream",
     "text": [
      "50\n",
      "80\n",
      "Error: Capacity cannot go below zero.\n",
      "80\n"
     ]
    }
   ],
   "source": [
    "campground = Campground(name = \"Bear Creek\", park = \"Yellowstone\", capacity = 50)\n",
    "print(campground.capacity)\n",
    "\n",
    "campground.add_capacity(30)\n",
    "print(campground.capacity)\n",
    "\n",
    "campground.remove_capacity(100)\n",
    "print(campground.capacity)"
   ]
  },
  {
   "cell_type": "markdown",
   "id": "c6c34814-335e-4b39-b701-d610f4bd005f",
   "metadata": {},
   "source": [
    "# 2. ReservationSystem class"
   ]
  },
  {
   "cell_type": "markdown",
   "id": "92a0e930-cf5b-4e5f-8394-b87ce98a5088",
   "metadata": {},
   "source": [
    "## a)"
   ]
  },
  {
   "cell_type": "code",
   "execution_count": 12,
   "id": "454070d4-d6bc-46b0-b0bc-77e5fcf687d8",
   "metadata": {},
   "outputs": [],
   "source": [
    "class Campground():\n",
    "    def __init__(self, name: str, park: str, capacity: int):\n",
    "        self.name = name\n",
    "        self.park = park\n",
    "        self.capacity = capacity\n",
    "\n",
    "    def campground_info(self):\n",
    "        return f\"{self.name} campground in {self.park} has a capacitiy of {self.capacity}.\"\n",
    "\n",
    "    def __str__ (self):\n",
    "        return self.campground_info()\n",
    "\n",
    "class ReservationSystem():\n",
    "    def __init__(self, campgrounds: list):\n",
    "        self.campgrounds = campgrounds\n",
    "        \n",
    "    def __str__ (self):\n",
    "        return f\"ReservationSystem of {len(self.campgrounds)} campgrounds.\""
   ]
  },
  {
   "cell_type": "code",
   "execution_count": 13,
   "id": "fd1c6716-48ab-4665-acd4-3be2102b63c1",
   "metadata": {},
   "outputs": [],
   "source": [
    "campgrounds_data = [\n",
    "    {\"name\": \"Bear Creek\", \"park\": \"Yellowstone\", \"capacity\": 50},\n",
    "    {\"name\": \"Eagle Nest\", \"park\": \"Yosemite\", \"capacity\": 30},\n",
    "    {\"name\": \"Deer Run\", \"park\": \"Grand Canyon\", \"capacity\": 40},\n",
    "    {\"name\": \"Wolf Den\", \"park\": \"Yellowstone\", \"capacity\": 20},\n",
    "    {\"name\": \"Rabbit Hole\", \"park\": \"Yosemite\", \"capacity\": 15},\n",
    "    {\"name\": \"Buffalo Range\", \"park\": \"Grand Canyon\", \"capacity\": 60},\n",
    "    {\"name\": \"Falcon Crest\", \"park\": \"Yellowstone\", \"capacity\": 25},\n",
    "    {\"name\": \"Turtle Beach\", \"park\": \"Yosemite\", \"capacity\": 35}\n",
    "]\n",
    "\n",
    "campgrounds = [Campground(object[\"name\"], object[\"park\"], object[\"capacity\"]) for object in campgrounds_data]"
   ]
  },
  {
   "cell_type": "code",
   "execution_count": 14,
   "id": "4890c5e4-715d-4158-a142-5748ddf6aa9d",
   "metadata": {},
   "outputs": [
    {
     "name": "stdout",
     "output_type": "stream",
     "text": [
      "ReservationSystem of 8 campgrounds.\n"
     ]
    }
   ],
   "source": [
    "reservation_system = ReservationSystem(campgrounds)\n",
    "print(reservation_system)"
   ]
  },
  {
   "cell_type": "markdown",
   "id": "fb2c5a76-b161-467d-b211-4fff917b74bd",
   "metadata": {},
   "source": [
    "## b)"
   ]
  },
  {
   "cell_type": "code",
   "execution_count": 15,
   "id": "894062a9-e7b6-4922-9824-25c1d886437e",
   "metadata": {},
   "outputs": [],
   "source": [
    "class Campground():\n",
    "    def __init__(self, name: str, park: str, capacity: int):\n",
    "        self.name = name\n",
    "        self.park = park\n",
    "        self.capacity = capacity\n",
    "\n",
    "    def campground_info(self):\n",
    "        return f\"{self.name} campground in {self.park} has a capacitiy of {self.capacity}.\"\n",
    "\n",
    "    def __str__ (self):\n",
    "        return self.campground_info()\n",
    "\n",
    "class ReservationSystem():\n",
    "    def __init__(self, campgrounds: list):\n",
    "        self.campgrounds = campgrounds\n",
    "        \n",
    "    def __str__ (self):\n",
    "        return f\"ReservationSystem of {len(self.campgrounds)} campgrounds.\"\n",
    "\n",
    "    def check_availability(self, campground_name, number_of_spots):\n",
    "        for campground in self.campgrounds:\n",
    "            if campground.name == campground_name:\n",
    "                return campground.capacity >= number_of_spots\n",
    "        return False\n",
    "\n",
    "campgrounds_data = [\n",
    "    {\"name\": \"Bear Creek\", \"park\": \"Yellowstone\", \"capacity\": 50},\n",
    "    {\"name\": \"Eagle Nest\", \"park\": \"Yosemite\", \"capacity\": 30},\n",
    "    {\"name\": \"Deer Run\", \"park\": \"Grand Canyon\", \"capacity\": 40},\n",
    "    {\"name\": \"Wolf Den\", \"park\": \"Yellowstone\", \"capacity\": 20},\n",
    "    {\"name\": \"Rabbit Hole\", \"park\": \"Yosemite\", \"capacity\": 15},\n",
    "    {\"name\": \"Buffalo Range\", \"park\": \"Grand Canyon\", \"capacity\": 60},\n",
    "    {\"name\": \"Falcon Crest\", \"park\": \"Yellowstone\", \"capacity\": 25},\n",
    "    {\"name\": \"Turtle Beach\", \"park\": \"Yosemite\", \"capacity\": 35}\n",
    "]\n",
    "\n",
    "campgrounds = [Campground(object[\"name\"], object[\"park\"], object[\"capacity\"]) for object in campgrounds_data]\n",
    "reservation_system = ReservationSystem(campgrounds)\n",
    "            "
   ]
  },
  {
   "cell_type": "code",
   "execution_count": 16,
   "id": "f308159f-5c2a-4023-8ed7-b6c98ea5b3c5",
   "metadata": {},
   "outputs": [
    {
     "name": "stdout",
     "output_type": "stream",
     "text": [
      "35 available spots at Eagle Nest campground: False\n"
     ]
    }
   ],
   "source": [
    "campground_name_ = \"Eagle Nest\"\n",
    "number_of_spots_available = 35\n",
    "\n",
    "campground_availability = reservation_system.check_availability(campground_name_, number_of_spots_available)\n",
    "print (f\"{number_of_spots_available} available spots at {campground_name_} campground: {campground_availability}\")"
   ]
  },
  {
   "cell_type": "markdown",
   "id": "6af033ef-bf23-4515-a9db-d0c331f2df5e",
   "metadata": {},
   "source": [
    "## c)"
   ]
  },
  {
   "cell_type": "code",
   "execution_count": 17,
   "id": "d82b7600-c1e5-476f-a766-6031224a85b8",
   "metadata": {},
   "outputs": [],
   "source": [
    "class Campground():\n",
    "    def __init__(self, name: str, park: str, capacity: int):\n",
    "        self.name = name\n",
    "        self.park = park\n",
    "        self.capacity = capacity\n",
    "\n",
    "    def campground_info(self):\n",
    "        return f\"{self.name} campground in {self.park} has a capacitiy of {self.capacity}.\"\n",
    "\n",
    "    def __str__ (self):\n",
    "        return self.campground_info()\n",
    "\n",
    "class ReservationSystem():\n",
    "    def __init__(self, campgrounds: list):\n",
    "        self.campgrounds = campgrounds\n",
    "        \n",
    "    def __str__ (self):\n",
    "        return f\"ReservationSystem with {len(self.campgrounds)} campgrounds.\"\n",
    "\n",
    "    def check_availability(self, campground_name, number_of_spots):\n",
    "        for campground in self.campgrounds:\n",
    "            if campground.name == campground_name:\n",
    "                return campground.capacity >= number_of_spots\n",
    "        return False\n",
    "\n",
    "    def total_capacity_by_park(self, park_name):\n",
    "        total_capacity = 0\n",
    "        for campground in self.campgrounds:\n",
    "            if campground.park == park_name:\n",
    "                total_capacity += campground.capacity\n",
    "        return total_capacity\n",
    "\n",
    "campgrounds_data = [\n",
    "    {\"name\": \"Bear Creek\", \"park\": \"Yellowstone\", \"capacity\": 50},\n",
    "    {\"name\": \"Eagle Nest\", \"park\": \"Yosemite\", \"capacity\": 30},\n",
    "    {\"name\": \"Deer Run\", \"park\": \"Grand Canyon\", \"capacity\": 40},\n",
    "    {\"name\": \"Wolf Den\", \"park\": \"Yellowstone\", \"capacity\": 20},\n",
    "    {\"name\": \"Rabbit Hole\", \"park\": \"Yosemite\", \"capacity\": 15},\n",
    "    {\"name\": \"Buffalo Range\", \"park\": \"Grand Canyon\", \"capacity\": 60},\n",
    "    {\"name\": \"Falcon Crest\", \"park\": \"Yellowstone\", \"capacity\": 25},\n",
    "    {\"name\": \"Turtle Beach\", \"park\": \"Yosemite\", \"capacity\": 35}\n",
    "]\n",
    "\n",
    "campgrounds = [Campground(object[\"name\"], object[\"park\"], object[\"capacity\"]) for object in campgrounds_data]\n",
    "reservation_system = ReservationSystem(campgrounds)"
   ]
  },
  {
   "cell_type": "code",
   "execution_count": 19,
   "id": "09e5fe3d-e18c-41cd-8a70-cc864a004665",
   "metadata": {},
   "outputs": [
    {
     "name": "stdout",
     "output_type": "stream",
     "text": [
      "total capacity of Yellowstone is 95\n"
     ]
    }
   ],
   "source": [
    "park_name_ = \"Yellowstone\"\n",
    "total_capacity_ = reservation_system.total_capacity_by_park(park_name_)\n",
    "print(f\"total capacity of {park_name_} is {total_capacity_}\")"
   ]
  },
  {
   "cell_type": "code",
   "execution_count": null,
   "id": "a5940680-b184-428b-8535-e2cf92ab854f",
   "metadata": {},
   "outputs": [],
   "source": []
  }
 ],
 "metadata": {
  "kernelspec": {
   "display_name": "Python 3 (ipykernel)",
   "language": "python",
   "name": "python3"
  },
  "language_info": {
   "codemirror_mode": {
    "name": "ipython",
    "version": 3
   },
   "file_extension": ".py",
   "mimetype": "text/x-python",
   "name": "python",
   "nbconvert_exporter": "python",
   "pygments_lexer": "ipython3",
   "version": "3.11.0"
  }
 },
 "nbformat": 4,
 "nbformat_minor": 5
}
