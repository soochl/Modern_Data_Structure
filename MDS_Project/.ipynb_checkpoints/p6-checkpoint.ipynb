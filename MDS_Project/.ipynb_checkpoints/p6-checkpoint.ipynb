{
 "cells": [
  {
   "cell_type": "markdown",
   "id": "f63b9769-dc94-4658-b68f-26aff3187de4",
   "metadata": {},
   "source": [
    "# 4. Publish on test.pypi.org"
   ]
  },
  {
   "cell_type": "markdown",
   "id": "4bfb0c14-d6ec-45ae-a59c-c2fb39397523",
   "metadata": {},
   "source": [
    "url: https://test.pypi.org/project/prime_sc4815/"
   ]
  },
  {
   "cell_type": "code",
   "execution_count": 12,
   "id": "e042d1d6-66a6-40cf-96e1-9dc3a2e541b4",
   "metadata": {},
   "outputs": [
    {
     "name": "stdout",
     "output_type": "stream",
     "text": [
      "Name: prime_sc4815\n",
      "Version: 0.1.0\n",
      "Summary: Python package for MDS_Fall2023\n",
      "Home-page: \n",
      "Author: SooYeon Choi\n",
      "Author-email: \n",
      "License: MIT\n",
      "Location: /Users/sooyeonchoi/Library/Caches/pypoetry/virtualenvs/mds-project-pILdzu2S-py3.11/lib/python3.11/site-packages\n",
      "Requires: \n",
      "Required-by: \n"
     ]
    }
   ],
   "source": [
    "!pip show prime_sc4815"
   ]
  },
  {
   "cell_type": "code",
   "execution_count": 2,
   "id": "2f5efeed-8c2a-4f0f-8649-2caafbf710ae",
   "metadata": {},
   "outputs": [
    {
     "name": "stdout",
     "output_type": "stream",
     "text": [
      "Looking in indexes: https://test.pypi.org/simple/\n",
      "Collecting prime_sc4815\n",
      "  Obtaining dependency information for prime_sc4815 from https://test-files.pythonhosted.org/packages/4f/93/b67e6835be5fcebd9dd97bde6b2d563837e27b8e4162fee8f83805f710e4/prime_sc4815-0.1.0-py3-none-any.whl.metadata\n",
      "  Downloading https://test-files.pythonhosted.org/packages/4f/93/b67e6835be5fcebd9dd97bde6b2d563837e27b8e4162fee8f83805f710e4/prime_sc4815-0.1.0-py3-none-any.whl.metadata (1.1 kB)\n",
      "Downloading https://test-files.pythonhosted.org/packages/4f/93/b67e6835be5fcebd9dd97bde6b2d563837e27b8e4162fee8f83805f710e4/prime_sc4815-0.1.0-py3-none-any.whl (2.7 kB)\n",
      "Installing collected packages: prime_sc4815\n",
      "Successfully installed prime_sc4815-0.1.0\n",
      "\n",
      "\u001b[1m[\u001b[0m\u001b[34;49mnotice\u001b[0m\u001b[1;39;49m]\u001b[0m\u001b[39;49m A new release of pip is available: \u001b[0m\u001b[31;49m23.2.1\u001b[0m\u001b[39;49m -> \u001b[0m\u001b[32;49m23.3.1\u001b[0m\n",
      "\u001b[1m[\u001b[0m\u001b[34;49mnotice\u001b[0m\u001b[1;39;49m]\u001b[0m\u001b[39;49m To update, run: \u001b[0m\u001b[32;49mpip install --upgrade pip\u001b[0m\n"
     ]
    }
   ],
   "source": [
    "!pip install -i https://test.pypi.org/simple/ prime_sc4815"
   ]
  },
  {
   "cell_type": "code",
   "execution_count": 18,
   "id": "6a241da0-d806-4ae9-af31-3491dc6cd84a",
   "metadata": {},
   "outputs": [
    {
     "name": "stdout",
     "output_type": "stream",
     "text": [
      "True\n"
     ]
    }
   ],
   "source": [
    "from prime_sc4815.prime_sc4815 import is_prime\n",
    "result = is_prime(3)\n",
    "print(result)"
   ]
  },
  {
   "cell_type": "code",
   "execution_count": 20,
   "id": "e64a1cec-0472-4a14-b82c-192d10d5324a",
   "metadata": {},
   "outputs": [
    {
     "name": "stdout",
     "output_type": "stream",
     "text": [
      "Help on package prime_sc4815:\n",
      "\n",
      "NAME\n",
      "    prime_sc4815 - # read version from installed package\n",
      "\n",
      "PACKAGE CONTENTS\n",
      "    prime_sc4815\n",
      "\n",
      "VERSION\n",
      "    0.1.0\n",
      "\n",
      "FILE\n",
      "    /Users/sooyeonchoi/Library/Caches/pypoetry/virtualenvs/mds-project-pILdzu2S-py3.11/lib/python3.11/site-packages/prime_sc4815/__init__.py\n",
      "\n",
      "\n",
      "Help on function is_prime in module prime_sc4815.prime_sc4815:\n",
      "\n",
      "is_prime(n)\n",
      "    check if a given integer is a prime number\n",
      "    \n",
      "    Integer\n",
      "    -------\n",
      "    n\n",
      "    \n",
      "    Returns\n",
      "    -------\n",
      "    'True' if the input integer (n) is prime\n",
      "    'False' otherwise.\n",
      "    \n",
      "    Examples\n",
      "    --------\n",
      "        >>> is_prime(13)\n",
      "        True\n",
      "        >>> is_prime(6)\n",
      "        False\n",
      "\n"
     ]
    }
   ],
   "source": [
    "import prime_sc4815\n",
    "help(prime_sc4815)\n",
    "help(is_prime)"
   ]
  },
  {
   "cell_type": "code",
   "execution_count": null,
   "id": "5ceb65b1-99a7-4218-b113-e423c10071d0",
   "metadata": {},
   "outputs": [],
   "source": []
  }
 ],
 "metadata": {
  "kernelspec": {
   "display_name": "Python 3 (ipykernel)",
   "language": "python",
   "name": "python3"
  },
  "language_info": {
   "codemirror_mode": {
    "name": "ipython",
    "version": 3
   },
   "file_extension": ".py",
   "mimetype": "text/x-python",
   "name": "python",
   "nbconvert_exporter": "python",
   "pygments_lexer": "ipython3",
   "version": "3.11.0"
  }
 },
 "nbformat": 4,
 "nbformat_minor": 5
}
