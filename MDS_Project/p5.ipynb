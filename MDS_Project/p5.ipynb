{
 "cells": [
  {
   "cell_type": "code",
   "execution_count": 59,
   "id": "a6bee446-3d60-49b8-88e8-ed90a3b30686",
   "metadata": {},
   "outputs": [],
   "source": [
    "import math\n",
    "\n",
    "def is_prime(n):\n",
    "    if n <= 1:\n",
    "        return False\n",
    "    for i in range(2, int(math.sqrt(n)) + 1):\n",
    "        if n % i == 0:\n",
    "            return False\n",
    "    return True\n",
    "\n",
    "def generate_primes(limit):\n",
    "    primes = []\n",
    "    for i in range(2, limit + 1):\n",
    "        if is_prime(i):\n",
    "            primes.append(i)\n",
    "    return primes"
   ]
  },
  {
   "cell_type": "code",
   "execution_count": 60,
   "id": "f0683d7c-f382-4965-8fab-a4bed3438120",
   "metadata": {},
   "outputs": [
    {
     "name": "stdout",
     "output_type": "stream",
     "text": [
      "Requirement already satisfied: pytest in /Users/sooyeonchoi/Library/Caches/pypoetry/virtualenvs/mds-project-pILdzu2S-py3.11/lib/python3.11/site-packages (7.4.2)\n",
      "Requirement already satisfied: iniconfig in /Users/sooyeonchoi/Library/Caches/pypoetry/virtualenvs/mds-project-pILdzu2S-py3.11/lib/python3.11/site-packages (from pytest) (2.0.0)\n",
      "Requirement already satisfied: packaging in /Users/sooyeonchoi/Library/Caches/pypoetry/virtualenvs/mds-project-pILdzu2S-py3.11/lib/python3.11/site-packages (from pytest) (23.1)\n",
      "Requirement already satisfied: pluggy<2.0,>=0.12 in /Users/sooyeonchoi/Library/Caches/pypoetry/virtualenvs/mds-project-pILdzu2S-py3.11/lib/python3.11/site-packages (from pytest) (1.3.0)\n",
      "\n",
      "\u001b[1m[\u001b[0m\u001b[34;49mnotice\u001b[0m\u001b[1;39;49m]\u001b[0m\u001b[39;49m A new release of pip is available: \u001b[0m\u001b[31;49m23.2.1\u001b[0m\u001b[39;49m -> \u001b[0m\u001b[32;49m23.3.1\u001b[0m\n",
      "\u001b[1m[\u001b[0m\u001b[34;49mnotice\u001b[0m\u001b[1;39;49m]\u001b[0m\u001b[39;49m To update, run: \u001b[0m\u001b[32;49mpip install --upgrade pip\u001b[0m\n",
      "Note: you may need to restart the kernel to use updated packages.\n"
     ]
    }
   ],
   "source": [
    "pip install pytest"
   ]
  },
  {
   "cell_type": "code",
   "execution_count": 61,
   "id": "f639e6f3-d641-4ab4-8bf1-891342608505",
   "metadata": {},
   "outputs": [],
   "source": [
    "import pytest\n"
   ]
  },
  {
   "cell_type": "markdown",
   "id": "8b2e9972-415d-4bf2-9e10-19a046e5f9ab",
   "metadata": {},
   "source": [
    "# 1. Test the functions"
   ]
  },
  {
   "cell_type": "markdown",
   "id": "9306ba77-167b-4843-b6e9-9dfdc8ba5c55",
   "metadata": {},
   "source": [
    "## a)"
   ]
  },
  {
   "cell_type": "code",
   "execution_count": 62,
   "id": "04ef1e6c-5bd2-4c42-a7e9-2d32bd653f5d",
   "metadata": {},
   "outputs": [],
   "source": [
    "def test_is_prime():\n",
    "    test_num = {\n",
    "        2: True,\n",
    "        7: True,\n",
    "        8: False,\n",
    "        9: False,\n",
    "    }\n",
    "    for num, expected_result in test_num.items():\n",
    "        result = is_prime(num)\n",
    "        assert result == expected_result, f\"For {num}, expected {expected_result}, but got {result}\"\n"
   ]
  },
  {
   "cell_type": "markdown",
   "id": "1572c941-68d8-4280-865e-c4f34c0d6e86",
   "metadata": {},
   "source": [
    "## b)"
   ]
  },
  {
   "cell_type": "code",
   "execution_count": 63,
   "id": "9bb8b509-f643-4d03-87ad-221e8c09c68b",
   "metadata": {},
   "outputs": [],
   "source": [
    "@pytest.mark.parametrize(\"edge, expected\", [\n",
    "    (-2, False),\n",
    "        (0, False),\n",
    "        (1, False),\n",
    "        (2, True),\n",
    "        (7, True),\n",
    "        (8, False),\n",
    "        (9, False)\n",
    "])\n",
    "def test_is_prime_param(edge, expected):\n",
    "    edge_result = is_prime(edge)\n",
    "    assert edge_result == expected, f\"For {edge}, expected {expected}, but got {edge_result}\"\n",
    "     "
   ]
  },
  {
   "cell_type": "markdown",
   "id": "0e4bf70e-8baf-484e-8e07-e099ae47fa43",
   "metadata": {},
   "source": [
    "## c)"
   ]
  },
  {
   "cell_type": "code",
   "execution_count": 64,
   "id": "2d26171e-500b-4a62-8d6e-27db09699e61",
   "metadata": {},
   "outputs": [],
   "source": [
    "@pytest.mark.parametrize(\"limit, expected_primes\", [\n",
    "        (2, [2]),\n",
    "        (7, [2, 3, 5]),\n",
    "        (9, [2, 3, 5, 7]),\n",
    "        (1,[]),\n",
    "        (0,[]),\n",
    "        (-10, [])\n",
    "])\n",
    "def test_generate_primes(limit, expected_primes):\n",
    "    gen_result = generate_primes(limit)\n",
    "    assert gen_result == expected_primes, f\"For limit {limit}, expected {expected_primes}, but got {gen_result}\""
   ]
  },
  {
   "cell_type": "markdown",
   "id": "5a1be025-99ff-4651-b78e-2d5ba35f859d",
   "metadata": {},
   "source": [
    "## d)"
   ]
  },
  {
   "cell_type": "code",
   "execution_count": 65,
   "id": "8b4e510d-1127-4006-bd82-29acfb02e5be",
   "metadata": {},
   "outputs": [],
   "source": [
    "def test_prime_integration():\n",
    "    limits = [10, 20, 50, 100]\n",
    "    for limit in limits:\n",
    "        primes = generate_primes(limit)\n",
    "        for prime in primes:\n",
    "            assert is_prime(prime), f\"{prime}, should be prime numbers but is_prime returned False.\""
   ]
  },
  {
   "cell_type": "markdown",
   "id": "dcd3dfbd-acb6-490c-89f0-abe4aa8b6a84",
   "metadata": {},
   "source": [
    "## e)"
   ]
  },
  {
   "cell_type": "code",
   "execution_count": 66,
   "id": "116e3031-2427-4803-b0ff-40bfd78937a4",
   "metadata": {},
   "outputs": [
    {
     "ename": "SyntaxError",
     "evalue": "invalid decimal literal (391105500.py, line 52)",
     "output_type": "error",
     "traceback": [
      "\u001b[0;36m  Cell \u001b[0;32mIn[66], line 52\u001b[0;36m\u001b[0m\n\u001b[0;31m    ========================= 1 failed, 14 passed in 0.05s =========================\u001b[0m\n\u001b[0m                                                        ^\u001b[0m\n\u001b[0;31mSyntaxError\u001b[0m\u001b[0;31m:\u001b[0m invalid decimal literal\n"
     ]
    }
   ],
   "source": [
    "[(base) sooyeonchoi@choesuyeons-MacBook-Pro Choi_SooYeon % poetry run pytest test_prime.py -vv\n",
    "============================= test session starts ==============================\n",
    "platform darwin -- Python 3.11.0, pytest-7.4.2, pluggy-1.3.0 -- /Users/sooyeonchoi/Library/Caches/pypoetry/virtualenvs/mds-project-pILdzu2S-py3.11/bin/python\n",
    "cachedir: .pytest_cache\n",
    "rootdir: /Users/sooyeonchoi/MDS_project/Choi_SooYeon\n",
    "plugins: anyio-4.0.0\n",
    "collected 15 items                                                             \n",
    "\n",
    "test_prime.py::test_is_prime PASSED                                      [  6%]\n",
    "test_prime.py::test_is_prime_param[-2-False] PASSED                      [ 13%]\n",
    "test_prime.py::test_is_prime_param[0-False] PASSED                       [ 20%]\n",
    "test_prime.py::test_is_prime_param[1-False] PASSED                       [ 26%]\n",
    "test_prime.py::test_is_prime_param[2-True] PASSED                        [ 33%]\n",
    "test_prime.py::test_is_prime_param[7-True] PASSED                        [ 40%]\n",
    "test_prime.py::test_is_prime_param[8-False] PASSED                       [ 46%]\n",
    "test_prime.py::test_is_prime_param[9-False] PASSED                       [ 53%]\n",
    "test_prime.py::test_generate_primes[2-expected_primes0] PASSED           [ 60%]\n",
    "test_prime.py::test_generate_primes[7-expected_primes1] FAILED           [ 66%]\n",
    "test_prime.py::test_generate_primes[9-expected_primes2] PASSED           [ 73%]\n",
    "test_prime.py::test_generate_primes[1-expected_primes3] PASSED           [ 80%]\n",
    "test_prime.py::test_generate_primes[0-expected_primes4] PASSED           [ 86%]\n",
    "test_prime.py::test_generate_primes[-10-expected_primes5] PASSED         [ 93%]\n",
    "test_prime.py::test_prime_integration PASSED                             [100%]\n",
    "\n",
    "=================================== FAILURES ===================================\n",
    "___________________ test_generate_primes[7-expected_primes1] ___________________\n",
    "\n",
    "limit = 7, expected_primes = [2, 3, 5]\n",
    "\n",
    "    @pytest.mark.parametrize(\"limit, expected_primes\", [\n",
    "            (2, [2]),\n",
    "            (7, [2, 3, 5]),\n",
    "            (9, [2, 3, 5, 7]),\n",
    "            (1,[]),\n",
    "            (0,[]),\n",
    "            (-10, [])\n",
    "    ])\n",
    "    def test_generate_primes(limit, expected_primes):\n",
    "        gen_result = generate_primes(limit)\n",
    ">       assert gen_result == expected_primes, f\"For limit {limit}, expected {expected_primes}, but got {gen_result}\"\n",
    "E       AssertionError: For limit 7, expected [2, 3, 5], but got [2, 3, 5, 7]\n",
    "E       assert [2, 3, 5, 7] == [2, 3, 5]\n",
    "E         Left contains one more item: 7\n",
    "E         Full diff:\n",
    "E         - [2, 3, 5]\n",
    "E         + [2, 3, 5, 7]\n",
    "E         ?         +++\n",
    "\n",
    "test_prime.py:53: AssertionError\n",
    "=========================== short test summary info ============================\n",
    "FAILED test_prime.py::test_generate_primes[7-expected_primes1] - AssertionError: For limit 7, expected [2, 3, 5], but got [2, 3, 5, 7]\n",
    "========================= 1 failed, 14 passed in 0.05s ========================="
   ]
  },
  {
   "cell_type": "markdown",
   "id": "a7d14b10-b7c1-4322-8532-6ceb4ad74280",
   "metadata": {},
   "source": [
    "# 2. Advanced Testing"
   ]
  },
  {
   "cell_type": "markdown",
   "id": "6f1c8105-c9a8-4c1c-b251-7b2336996ac1",
   "metadata": {},
   "source": [
    "## a)"
   ]
  },
  {
   "cell_type": "code",
   "execution_count": 67,
   "id": "af334f9c-8c83-4177-a23e-facdadd004c9",
   "metadata": {},
   "outputs": [],
   "source": [
    "@pytest.mark.parametrize(\"limit, expected_primes\",[\n",
    "        (2, [2]),\n",
    "        (7, [2, 3, 5]),\n",
    "        (9, [2, 3, 5, 7]),\n",
    "        (20, [2, 3, 5, 7, 11, 13, 17, 19]),\n",
    "        (1,[]),\n",
    "        (0,[]),\n",
    "        (-5,[]),\n",
    "        (-10,[]),\n",
    "])\n",
    "def test_generate_primes(limit, expected_primes):\n",
    "    gen_result = generate_primes(limit)\n",
    "    assert gen_result == expected_primes"
   ]
  },
  {
   "cell_type": "markdown",
   "id": "9b89c92e-2057-4613-8076-e8e57a876c54",
   "metadata": {},
   "source": [
    "## b)"
   ]
  },
  {
   "cell_type": "code",
   "execution_count": 68,
   "id": "77b52401-a15f-4da6-9122-d60d0271cb00",
   "metadata": {},
   "outputs": [],
   "source": [
    "@pytest.fixture\n",
    "def prime_nums():\n",
    "    primes = generate_primes(50)\n",
    "    return primes\n",
    "    \n",
    "def test_prime_using_fixture(prime_nums):\n",
    "    assert 13 in prime_nums\n",
    "    assert 17 in prime_nums\n",
    "    \n",
    "def test_generate_primes_using_fixture(prime_nums):\n",
    "    result = generate_primes(20)\n",
    "    assert result == prime_nums[:15]"
   ]
  },
  {
   "cell_type": "code",
   "execution_count": null,
   "id": "7137ab08-afdc-4687-88b3-439525251820",
   "metadata": {},
   "outputs": [],
   "source": []
  }
 ],
 "metadata": {
  "kernelspec": {
   "display_name": "Python 3 (ipykernel)",
   "language": "python",
   "name": "python3"
  },
  "language_info": {
   "codemirror_mode": {
    "name": "ipython",
    "version": 3
   },
   "file_extension": ".py",
   "mimetype": "text/x-python",
   "name": "python",
   "nbconvert_exporter": "python",
   "pygments_lexer": "ipython3",
   "version": "3.9.13"
  }
 },
 "nbformat": 4,
 "nbformat_minor": 5
}
